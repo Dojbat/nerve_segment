{
 "cells": [
  {
   "cell_type": "markdown",
   "id": "XTzJ3F6TGKW_",
   "metadata": {
    "id": "XTzJ3F6TGKW_"
   },
   "source": [
    "Convert JSON to masked dataset"
   ]
  },
  {
   "cell_type": "code",
   "execution_count": 1,
   "id": "eab64e2c",
   "metadata": {
    "id": "eab64e2c"
   },
   "outputs": [],
   "source": [
    "import os\n",
    "from glob import glob\n",
    "\n",
    "# find all JSON annotation files\n",
    "json_files = glob(\"*.json\")\n",
    "\n",
    "for jf in json_files:\n",
    "    # output folder: e.g., 1.json -> 1_dataset\n",
    "    out_dir = jf.replace(\".json\", \"_dataset\")\n",
    "    cmd = f\"labelme_json_to_dataset \\\"{jf}\\\" -o \\\"{out_dir}\\\"\"\n",
    "    print(f\"Converting: {jf} -> {out_dir}\")\n",
    "    os.system(cmd)\n"
   ]
  },
  {
   "cell_type": "markdown",
   "id": "zTW5QBwJGQhy",
   "metadata": {
    "id": "zTW5QBwJGQhy"
   },
   "source": [
    "move the files to the images and masks folder"
   ]
  },
  {
   "cell_type": "code",
   "execution_count": 2,
   "id": "ec8eadfb",
   "metadata": {
    "colab": {
     "base_uri": "https://localhost:8080/"
    },
    "id": "ec8eadfb",
    "outputId": "50827766-3d45-4616-c7da-f7a7c2186818"
   },
   "outputs": [
    {
     "name": "stdout",
     "output_type": "stream",
     "text": [
      "✅ All images and masks collected into 'images/' and 'masks/'\n"
     ]
    }
   ],
   "source": [
    "import os\n",
    "import shutil\n",
    "from glob import glob\n",
    "\n",
    "# make output folders\n",
    "os.makedirs(\"images\", exist_ok=True)\n",
    "os.makedirs(\"masks\", exist_ok=True)\n",
    "\n",
    "# find all _dataset folders\n",
    "dataset_folders = glob(\"*_dataset\")\n",
    "\n",
    "for folder in dataset_folders:\n",
    "    img_path = os.path.join(folder, \"img.png\")\n",
    "    mask_path = os.path.join(folder, \"label.png\")\n",
    "\n",
    "    if os.path.exists(img_path) and os.path.exists(mask_path):\n",
    "        # name them based on folder name, e.g., 1_dataset -> 1.png\n",
    "        base_name = folder.replace(\"_dataset\", \"\")\n",
    "\n",
    "        shutil.copy(img_path, f\"images/{base_name}.png\")\n",
    "        shutil.copy(mask_path, f\"masks/{base_name}.png\")\n",
    "\n",
    "print(\"✅ All images and masks collected into 'images/' and 'masks/'\")\n"
   ]
  },
  {
   "cell_type": "markdown",
   "id": "psakwVWGGdJZ",
   "metadata": {
    "id": "psakwVWGGdJZ"
   },
   "source": [
    "Split the dataset into 80 20"
   ]
  },
  {
   "cell_type": "code",
   "execution_count": 3,
   "id": "0a965c8d",
   "metadata": {
    "colab": {
     "base_uri": "https://localhost:8080/"
    },
    "id": "0a965c8d",
    "outputId": "5871d299-4b98-46e6-fc21-16da525e0cb1"
   },
   "outputs": [
    {
     "name": "stdout",
     "output_type": "stream",
     "text": [
      "Found images: []\n",
      "✅ Dataset split completed (copied, originals intact):\n",
      "Train: 0 images\n",
      "Val:   0 images\n"
     ]
    }
   ],
   "source": [
    "import os\n",
    "import shutil\n",
    "import random\n",
    "from glob import glob\n",
    "\n",
    "# paths (update for your actual folders)\n",
    "images_dir = \"images\"\n",
    "masks_dir = \"masks\"\n",
    "\n",
    "# output folders\n",
    "for s in [\"train\", \"val\"]:\n",
    "    os.makedirs(f\"images/{s}\", exist_ok=True)\n",
    "    os.makedirs(f\"masks/{s}\", exist_ok=True)\n",
    "\n",
    "# find all images\n",
    "images = glob(os.path.join(images_dir, \"*.png\"))\n",
    "images.sort()  # consistent ordering\n",
    "\n",
    "# debug: check what files were found\n",
    "print(\"Found images:\", images)\n",
    "\n",
    "# shuffle with seed = 1\n",
    "random.seed(1)\n",
    "random.shuffle(images)\n",
    "\n",
    "# split 80/20\n",
    "split_idx = int(len(images) * 0.8)\n",
    "train_files = images[:split_idx]\n",
    "val_files = images[split_idx:]\n",
    "\n",
    "def copy_files(file_list, split):\n",
    "    for img_path in file_list:\n",
    "        fname = os.path.basename(img_path)\n",
    "        mask_path = os.path.join(masks_dir, fname)\n",
    "\n",
    "        if not os.path.exists(mask_path):\n",
    "            print(f\"⚠️  Mask not found for image: {fname}\")\n",
    "            continue\n",
    "\n",
    "        # copy image + mask\n",
    "        shutil.copy(img_path, f\"images/{split}/{fname}\")\n",
    "        shutil.copy(mask_path, f\"masks/{split}/{fname}\")\n",
    "\n",
    "copy_files(train_files, \"train\")\n",
    "copy_files(val_files, \"val\")\n",
    "\n",
    "print(\"✅ Dataset split completed (copied, originals intact):\")\n",
    "print(f\"Train: {len(train_files)} images\")\n",
    "print(f\"Val:   {len(val_files)} images\")\n"
   ]
  },
  {
   "cell_type": "code",
   "execution_count": 9,
   "id": "1dfe4172",
   "metadata": {},
   "outputs": [],
   "source": [
    "import os\n",
    "import re\n",
    "\n",
    "def rename_variant_files(img_dir, mask_dir):\n",
    "    # Pattern to match base filename (e.g., 188.png from 188(1).png)\n",
    "    def base_name(fname):\n",
    "        return re.sub(r'\\(\\d+\\)', '', fname)\n",
    "\n",
    "    # Rename image files\n",
    "    for fname in os.listdir(img_dir):\n",
    "        new_name = base_name(fname)\n",
    "        if fname != new_name:\n",
    "            src = os.path.join(img_dir, fname)\n",
    "            dst = os.path.join(img_dir, new_name)\n",
    "            if not os.path.exists(dst):\n",
    "                os.rename(src, dst)\n",
    "            else:\n",
    "                os.remove(src)  # Remove duplicate\n",
    "\n",
    "    # Rename mask files\n",
    "    for fname in os.listdir(mask_dir):\n",
    "        new_name = base_name(fname)\n",
    "        if fname != new_name:\n",
    "            src = os.path.join(mask_dir, fname)\n",
    "            dst = os.path.join(mask_dir, new_name)\n",
    "            if not os.path.exists(dst):\n",
    "                os.rename(src, dst)\n",
    "            else:\n",
    "                os.remove(src)  # Remove duplicate\n",
    "\n",
    "# Apply to train and val folders\n",
    "rename_variant_files(\"images/train\", \"masks/train\")\n",
    "rename_variant_files(\"images/val\", \"masks/val\")"
   ]
  },
  {
   "cell_type": "markdown",
   "id": "Vga8NsvwGl6A",
   "metadata": {
    "id": "Vga8NsvwGl6A"
   },
   "source": [
    "U-Net"
   ]
  },
  {
   "cell_type": "code",
   "execution_count": 2,
   "id": "a89ea4f4",
   "metadata": {
    "colab": {
     "base_uri": "https://localhost:8080/",
     "height": 332
    },
    "id": "a89ea4f4",
    "outputId": "ac8ec5e1-1232-4bf6-c207-e367bac04973"
   },
   "outputs": [
    {
     "name": "stderr",
     "output_type": "stream",
     "text": [
      "c:\\Users\\Admin\\AppData\\Local\\Programs\\Python\\Python313\\Lib\\site-packages\\torch\\cuda\\__init__.py:235: UserWarning: \n",
      "NVIDIA GeForce RTX 5070 Ti with CUDA capability sm_120 is not compatible with the current PyTorch installation.\n",
      "The current PyTorch install supports CUDA capabilities sm_37 sm_50 sm_60 sm_61 sm_70 sm_75 sm_80 sm_86 sm_90 compute_37.\n",
      "If you want to use the NVIDIA GeForce RTX 5070 Ti GPU with PyTorch, please check the instructions at https://pytorch.org/get-started/locally/\n",
      "\n",
      "  warnings.warn(\n",
      "Epoch 1/20 - Training: 100%|██████████| 30/30 [00:08<00:00,  3.43it/s]\n",
      "Epoch 1/20 - Validation: 100%|██████████| 8/8 [00:01<00:00,  6.68it/s]\n"
     ]
    },
    {
     "name": "stdout",
     "output_type": "stream",
     "text": [
      "\n",
      "Epoch 1:\n",
      " Train Loss=0.6926 | Dice=0.0769 | IoU=0.0409 | Acc=0.9544\n",
      " Val   Loss=0.7288 | Dice=0.0000 | IoU=0.0000 | Acc=0.9948 | Prec=0.0000 | Recall=0.0000\n",
      "✅ Model saved!\n"
     ]
    },
    {
     "name": "stderr",
     "output_type": "stream",
     "text": [
      "Epoch 2/20 - Training: 100%|██████████| 30/30 [00:07<00:00,  3.86it/s]\n",
      "Epoch 2/20 - Validation: 100%|██████████| 8/8 [00:01<00:00,  6.81it/s]\n"
     ]
    },
    {
     "name": "stdout",
     "output_type": "stream",
     "text": [
      "\n",
      "Epoch 2:\n",
      " Train Loss=0.4391 | Dice=0.4480 | IoU=0.2980 | Acc=0.9952\n",
      " Val   Loss=0.4129 | Dice=0.4851 | IoU=0.3360 | Acc=0.9959 | Prec=0.5562 | Recall=0.4524\n",
      "✅ Model saved!\n"
     ]
    },
    {
     "name": "stderr",
     "output_type": "stream",
     "text": [
      "Epoch 3/20 - Training: 100%|██████████| 30/30 [00:07<00:00,  3.80it/s]\n",
      "Epoch 3/20 - Validation: 100%|██████████| 8/8 [00:01<00:00,  6.65it/s]\n"
     ]
    },
    {
     "name": "stdout",
     "output_type": "stream",
     "text": [
      "\n",
      "Epoch 3:\n",
      " Train Loss=0.3141 | Dice=0.6446 | IoU=0.4813 | Acc=0.9970\n",
      " Val   Loss=0.2884 | Dice=0.6956 | IoU=0.5360 | Acc=0.9968 | Prec=0.6309 | Recall=0.7970\n",
      "✅ Model saved!\n"
     ]
    },
    {
     "name": "stderr",
     "output_type": "stream",
     "text": [
      "Epoch 4/20 - Training: 100%|██████████| 30/30 [00:07<00:00,  3.80it/s]\n",
      "Epoch 4/20 - Validation: 100%|██████████| 8/8 [00:01<00:00,  6.42it/s]\n"
     ]
    },
    {
     "name": "stdout",
     "output_type": "stream",
     "text": [
      "\n",
      "Epoch 4:\n",
      " Train Loss=0.2518 | Dice=0.7466 | IoU=0.5972 | Acc=0.9977\n",
      " Val   Loss=0.2502 | Dice=0.7441 | IoU=0.5964 | Acc=0.9976 | Prec=0.7488 | Recall=0.7488\n",
      "✅ Model saved!\n"
     ]
    },
    {
     "name": "stderr",
     "output_type": "stream",
     "text": [
      "Epoch 5/20 - Training: 100%|██████████| 30/30 [00:08<00:00,  3.71it/s]\n",
      "Epoch 5/20 - Validation: 100%|██████████| 8/8 [00:01<00:00,  6.52it/s]\n"
     ]
    },
    {
     "name": "stdout",
     "output_type": "stream",
     "text": [
      "\n",
      "Epoch 5:\n",
      " Train Loss=0.2228 | Dice=0.7879 | IoU=0.6515 | Acc=0.9981\n",
      " Val   Loss=0.2327 | Dice=0.7610 | IoU=0.6183 | Acc=0.9975 | Prec=0.7046 | Recall=0.8457\n",
      "✅ Model saved!\n"
     ]
    },
    {
     "name": "stderr",
     "output_type": "stream",
     "text": [
      "Epoch 6/20 - Training: 100%|██████████| 30/30 [00:08<00:00,  3.66it/s]\n",
      "Epoch 6/20 - Validation: 100%|██████████| 8/8 [00:01<00:00,  6.40it/s]\n"
     ]
    },
    {
     "name": "stdout",
     "output_type": "stream",
     "text": [
      "\n",
      "Epoch 6:\n",
      " Train Loss=0.1993 | Dice=0.8205 | IoU=0.6967 | Acc=0.9983\n",
      " Val   Loss=0.2133 | Dice=0.7856 | IoU=0.6517 | Acc=0.9979 | Prec=0.7947 | Recall=0.7910\n",
      "✅ Model saved!\n"
     ]
    },
    {
     "name": "stderr",
     "output_type": "stream",
     "text": [
      "Epoch 7/20 - Training: 100%|██████████| 30/30 [00:07<00:00,  3.78it/s]\n",
      "Epoch 7/20 - Validation: 100%|██████████| 8/8 [00:01<00:00,  6.62it/s]\n"
     ]
    },
    {
     "name": "stdout",
     "output_type": "stream",
     "text": [
      "\n",
      "Epoch 7:\n",
      " Train Loss=0.1856 | Dice=0.8354 | IoU=0.7182 | Acc=0.9985\n",
      " Val   Loss=0.2033 | Dice=0.7936 | IoU=0.6621 | Acc=0.9981 | Prec=0.8266 | Recall=0.7748\n",
      "✅ Model saved!\n"
     ]
    },
    {
     "name": "stderr",
     "output_type": "stream",
     "text": [
      "Epoch 8/20 - Training: 100%|██████████| 30/30 [00:07<00:00,  3.78it/s]\n",
      "Epoch 8/20 - Validation: 100%|██████████| 8/8 [00:01<00:00,  6.49it/s]\n"
     ]
    },
    {
     "name": "stdout",
     "output_type": "stream",
     "text": [
      "\n",
      "Epoch 8:\n",
      " Train Loss=0.1734 | Dice=0.8481 | IoU=0.7369 | Acc=0.9986\n",
      " Val   Loss=0.1986 | Dice=0.7937 | IoU=0.6629 | Acc=0.9980 | Prec=0.8050 | Recall=0.7957\n",
      "✅ Model saved!\n"
     ]
    },
    {
     "name": "stderr",
     "output_type": "stream",
     "text": [
      "Epoch 9/20 - Training: 100%|██████████| 30/30 [00:07<00:00,  3.76it/s]\n",
      "Epoch 9/20 - Validation: 100%|██████████| 8/8 [00:01<00:00,  6.78it/s]\n"
     ]
    },
    {
     "name": "stdout",
     "output_type": "stream",
     "text": [
      "\n",
      "Epoch 9:\n",
      " Train Loss=0.1637 | Dice=0.8568 | IoU=0.7505 | Acc=0.9987\n",
      " Val   Loss=0.1817 | Dice=0.8166 | IoU=0.6937 | Acc=0.9982 | Prec=0.8178 | Recall=0.8238\n",
      "✅ Model saved!\n"
     ]
    },
    {
     "name": "stderr",
     "output_type": "stream",
     "text": [
      "Epoch 10/20 - Training: 100%|██████████| 30/30 [00:08<00:00,  3.74it/s]\n",
      "Epoch 10/20 - Validation: 100%|██████████| 8/8 [00:01<00:00,  6.18it/s]\n"
     ]
    },
    {
     "name": "stdout",
     "output_type": "stream",
     "text": [
      "\n",
      "Epoch 10:\n",
      " Train Loss=0.1530 | Dice=0.8681 | IoU=0.7674 | Acc=0.9988\n",
      " Val   Loss=0.1993 | Dice=0.7739 | IoU=0.6352 | Acc=0.9977 | Prec=0.7244 | Recall=0.8422\n"
     ]
    },
    {
     "name": "stderr",
     "output_type": "stream",
     "text": [
      "Epoch 11/20 - Training: 100%|██████████| 30/30 [00:08<00:00,  3.56it/s]\n",
      "Epoch 11/20 - Validation: 100%|██████████| 8/8 [00:01<00:00,  6.17it/s]\n"
     ]
    },
    {
     "name": "stdout",
     "output_type": "stream",
     "text": [
      "\n",
      "Epoch 11:\n",
      " Train Loss=0.1466 | Dice=0.8718 | IoU=0.7731 | Acc=0.9988\n",
      " Val   Loss=0.1762 | Dice=0.8097 | IoU=0.6840 | Acc=0.9980 | Prec=0.7748 | Recall=0.8598\n",
      "✅ Model saved!\n"
     ]
    },
    {
     "name": "stderr",
     "output_type": "stream",
     "text": [
      "Epoch 12/20 - Training: 100%|██████████| 30/30 [00:08<00:00,  3.68it/s]\n",
      "Epoch 12/20 - Validation: 100%|██████████| 8/8 [00:01<00:00,  6.59it/s]\n"
     ]
    },
    {
     "name": "stdout",
     "output_type": "stream",
     "text": [
      "\n",
      "Epoch 12:\n",
      " Train Loss=0.1419 | Dice=0.8726 | IoU=0.7747 | Acc=0.9988\n",
      " Val   Loss=0.1774 | Dice=0.8006 | IoU=0.6707 | Acc=0.9980 | Prec=0.7765 | Recall=0.8333\n"
     ]
    },
    {
     "name": "stderr",
     "output_type": "stream",
     "text": [
      "Epoch 13/20 - Training: 100%|██████████| 30/30 [00:07<00:00,  3.83it/s]\n",
      "Epoch 13/20 - Validation: 100%|██████████| 8/8 [00:01<00:00,  6.96it/s]\n"
     ]
    },
    {
     "name": "stdout",
     "output_type": "stream",
     "text": [
      "\n",
      "Epoch 13:\n",
      " Train Loss=0.1324 | Dice=0.8834 | IoU=0.7916 | Acc=0.9989\n",
      " Val   Loss=0.1603 | Dice=0.8262 | IoU=0.7066 | Acc=0.9983 | Prec=0.8302 | Recall=0.8291\n",
      "✅ Model saved!\n"
     ]
    },
    {
     "name": "stderr",
     "output_type": "stream",
     "text": [
      "Epoch 14/20 - Training: 100%|██████████| 30/30 [00:07<00:00,  3.91it/s]\n",
      "Epoch 14/20 - Validation: 100%|██████████| 8/8 [00:01<00:00,  7.14it/s]\n"
     ]
    },
    {
     "name": "stdout",
     "output_type": "stream",
     "text": [
      "\n",
      "Epoch 14:\n",
      " Train Loss=0.1214 | Dice=0.8974 | IoU=0.8141 | Acc=0.9991\n",
      " Val   Loss=0.1560 | Dice=0.8254 | IoU=0.7060 | Acc=0.9983 | Prec=0.8184 | Recall=0.8395\n",
      "✅ Model saved!\n"
     ]
    },
    {
     "name": "stderr",
     "output_type": "stream",
     "text": [
      "Epoch 15/20 - Training: 100%|██████████| 30/30 [00:07<00:00,  3.79it/s]\n",
      "Epoch 15/20 - Validation: 100%|██████████| 8/8 [00:01<00:00,  5.94it/s]\n"
     ]
    },
    {
     "name": "stdout",
     "output_type": "stream",
     "text": [
      "\n",
      "Epoch 15:\n",
      " Train Loss=0.1174 | Dice=0.8980 | IoU=0.8154 | Acc=0.9991\n",
      " Val   Loss=0.1504 | Dice=0.8303 | IoU=0.7125 | Acc=0.9983 | Prec=0.8379 | Recall=0.8323\n",
      "✅ Model saved!\n"
     ]
    },
    {
     "name": "stderr",
     "output_type": "stream",
     "text": [
      "Epoch 16/20 - Training: 100%|██████████| 30/30 [00:10<00:00,  2.77it/s]\n",
      "Epoch 16/20 - Validation: 100%|██████████| 8/8 [00:01<00:00,  6.21it/s]\n"
     ]
    },
    {
     "name": "stdout",
     "output_type": "stream",
     "text": [
      "\n",
      "Epoch 16:\n",
      " Train Loss=0.1099 | Dice=0.9058 | IoU=0.8282 | Acc=0.9992\n",
      " Val   Loss=0.1564 | Dice=0.8112 | IoU=0.6862 | Acc=0.9982 | Prec=0.8152 | Recall=0.8200\n"
     ]
    },
    {
     "name": "stderr",
     "output_type": "stream",
     "text": [
      "Epoch 17/20 - Training: 100%|██████████| 30/30 [00:08<00:00,  3.47it/s]\n",
      "Epoch 17/20 - Validation: 100%|██████████| 8/8 [00:01<00:00,  6.24it/s]\n"
     ]
    },
    {
     "name": "stdout",
     "output_type": "stream",
     "text": [
      "\n",
      "Epoch 17:\n",
      " Train Loss=0.1042 | Dice=0.9105 | IoU=0.8359 | Acc=0.9992\n",
      " Val   Loss=0.1488 | Dice=0.8214 | IoU=0.7004 | Acc=0.9983 | Prec=0.8432 | Recall=0.8147\n",
      "✅ Model saved!\n"
     ]
    },
    {
     "name": "stderr",
     "output_type": "stream",
     "text": [
      "Epoch 18/20 - Training: 100%|██████████| 30/30 [00:09<00:00,  3.32it/s]\n",
      "Epoch 18/20 - Validation: 100%|██████████| 8/8 [00:01<00:00,  5.40it/s]\n"
     ]
    },
    {
     "name": "stdout",
     "output_type": "stream",
     "text": [
      "\n",
      "Epoch 18:\n",
      " Train Loss=0.1006 | Dice=0.9116 | IoU=0.8378 | Acc=0.9992\n",
      " Val   Loss=0.1449 | Dice=0.8223 | IoU=0.7023 | Acc=0.9983 | Prec=0.8657 | Recall=0.7903\n",
      "✅ Model saved!\n"
     ]
    },
    {
     "name": "stderr",
     "output_type": "stream",
     "text": [
      "Epoch 19/20 - Training: 100%|██████████| 30/30 [00:09<00:00,  3.17it/s]\n",
      "Epoch 19/20 - Validation: 100%|██████████| 8/8 [00:01<00:00,  5.96it/s]\n"
     ]
    },
    {
     "name": "stdout",
     "output_type": "stream",
     "text": [
      "\n",
      "Epoch 19:\n",
      " Train Loss=0.0968 | Dice=0.9135 | IoU=0.8411 | Acc=0.9992\n",
      " Val   Loss=0.1403 | Dice=0.8268 | IoU=0.7089 | Acc=0.9983 | Prec=0.8360 | Recall=0.8302\n",
      "✅ Model saved!\n"
     ]
    },
    {
     "name": "stderr",
     "output_type": "stream",
     "text": [
      "Epoch 20/20 - Training: 100%|██████████| 30/30 [00:09<00:00,  3.28it/s]\n",
      "Epoch 20/20 - Validation: 100%|██████████| 8/8 [00:01<00:00,  5.96it/s]"
     ]
    },
    {
     "name": "stdout",
     "output_type": "stream",
     "text": [
      "\n",
      "Epoch 20:\n",
      " Train Loss=0.0920 | Dice=0.9176 | IoU=0.8480 | Acc=0.9993\n",
      " Val   Loss=0.1438 | Dice=0.8147 | IoU=0.6904 | Acc=0.9983 | Prec=0.8742 | Recall=0.7735\n"
     ]
    },
    {
     "name": "stderr",
     "output_type": "stream",
     "text": [
      "\n"
     ]
    }
   ],
   "source": [
    "import os\n",
    "import torch\n",
    "import torch.nn as nn\n",
    "import torch.optim as optim\n",
    "from torch.utils.data import Dataset, DataLoader\n",
    "from torchvision import transforms\n",
    "from PIL import Image\n",
    "from tqdm import tqdm\n",
    "\n",
    "# -----------------------\n",
    "# Dataset\n",
    "# -----------------------\n",
    "class SegmentationDataset(Dataset):\n",
    "    def __init__(self, img_dir, mask_dir, transform=None):\n",
    "        self.img_dir = img_dir\n",
    "        self.mask_dir = mask_dir\n",
    "        self.images = os.listdir(img_dir)\n",
    "        self.transform = transform\n",
    "\n",
    "    def __len__(self):\n",
    "        return len(self.images)\n",
    "\n",
    "    def __getitem__(self, idx):\n",
    "        img_path = os.path.join(self.img_dir, self.images[idx])\n",
    "        mask_path = os.path.join(self.mask_dir, self.images[idx])  # assumes same filename\n",
    "\n",
    "        image = Image.open(img_path).convert(\"RGB\")\n",
    "        mask = Image.open(mask_path).convert(\"L\")  # grayscale\n",
    "\n",
    "        if self.transform is not None:\n",
    "            image = self.transform(image)\n",
    "            mask = self.transform(mask)\n",
    "\n",
    "        mask = (mask > 0).float()  # binarize\n",
    "        return image, mask\n",
    "\n",
    "# -----------------------\n",
    "# U-Net\n",
    "# -----------------------\n",
    "class DoubleConv(nn.Module):\n",
    "    def __init__(self, in_channels, out_channels):\n",
    "        super(DoubleConv, self).__init__()\n",
    "        self.net = nn.Sequential(\n",
    "            nn.Conv2d(in_channels, out_channels, 3, padding=1),\n",
    "            nn.BatchNorm2d(out_channels),\n",
    "            nn.ReLU(inplace=True),\n",
    "            nn.Conv2d(out_channels, out_channels, 3, padding=1),\n",
    "            nn.BatchNorm2d(out_channels),\n",
    "            nn.ReLU(inplace=True),\n",
    "        )\n",
    "    def forward(self, x):\n",
    "        return self.net(x)\n",
    "\n",
    "class UNet(nn.Module):\n",
    "    def __init__(self, in_channels=3, out_channels=1):\n",
    "        super(UNet, self).__init__()\n",
    "        self.enc1 = DoubleConv(in_channels, 64)\n",
    "        self.enc2 = DoubleConv(64, 128)\n",
    "        self.enc3 = DoubleConv(128, 256)\n",
    "        self.enc4 = DoubleConv(256, 512)\n",
    "\n",
    "        self.pool = nn.MaxPool2d(2)\n",
    "        self.bottleneck = DoubleConv(512, 1024)\n",
    "\n",
    "        self.upconv4 = nn.ConvTranspose2d(1024, 512, kernel_size=2, stride=2)\n",
    "        self.dec4 = DoubleConv(1024, 512)\n",
    "        self.upconv3 = nn.ConvTranspose2d(512, 256, kernel_size=2, stride=2)\n",
    "        self.dec3 = DoubleConv(512, 256)\n",
    "        self.upconv2 = nn.ConvTranspose2d(256, 128, kernel_size=2, stride=2)\n",
    "        self.dec2 = DoubleConv(256, 128)\n",
    "        self.upconv1 = nn.ConvTranspose2d(128, 64, kernel_size=2, stride=2)\n",
    "        self.dec1 = DoubleConv(128, 64)\n",
    "\n",
    "        self.conv_final = nn.Conv2d(64, out_channels, kernel_size=1)\n",
    "\n",
    "    def forward(self, x):\n",
    "        e1 = self.enc1(x)\n",
    "        e2 = self.enc2(self.pool(e1))\n",
    "        e3 = self.enc3(self.pool(e2))\n",
    "        e4 = self.enc4(self.pool(e3))\n",
    "\n",
    "        b = self.bottleneck(self.pool(e4))\n",
    "\n",
    "        d4 = self.upconv4(b)\n",
    "        d4 = torch.cat((d4, e4), dim=1)\n",
    "        d4 = self.dec4(d4)\n",
    "\n",
    "        d3 = self.upconv3(d4)\n",
    "        d3 = torch.cat((d3, e3), dim=1)\n",
    "        d3 = self.dec3(d3)\n",
    "\n",
    "        d2 = self.upconv2(d3)\n",
    "        d2 = torch.cat((d2, e2), dim=1)\n",
    "        d2 = self.dec2(d2)\n",
    "\n",
    "        d1 = self.upconv1(d2)\n",
    "        d1 = torch.cat((d1, e1), dim=1)\n",
    "        d1 = self.dec1(d1)\n",
    "\n",
    "        return torch.sigmoid(self.conv_final(d1))\n",
    "\n",
    "# -----------------------\n",
    "# Metrics\n",
    "# -----------------------\n",
    "def dice_score(pred, target, smooth=1e-6):\n",
    "    pred = (pred > 0.5).float()\n",
    "    target = target.float()\n",
    "    intersection = (pred * target).sum()\n",
    "    return ((2. * intersection + smooth) / (pred.sum() + target.sum() + smooth)).item()\n",
    "\n",
    "def iou_score(pred, target, smooth=1e-6):\n",
    "    pred = (pred > 0.5).float()\n",
    "    target = target.float()\n",
    "    intersection = (pred * target).sum()\n",
    "    union = pred.sum() + target.sum() - intersection\n",
    "    return ((intersection + smooth) / (union + smooth)).item()\n",
    "\n",
    "def pixel_accuracy(pred, target):\n",
    "    pred = (pred > 0.5).float()\n",
    "    correct = (pred == target).float().sum()\n",
    "    return (correct / target.numel()).item()\n",
    "\n",
    "def precision_score(pred, target, smooth=1e-6):\n",
    "    pred = (pred > 0.5).float()\n",
    "    target = target.float()\n",
    "    tp = (pred * target).sum()\n",
    "    fp = (pred * (1 - target)).sum()\n",
    "    return (tp / (tp + fp + smooth)).item()\n",
    "\n",
    "def recall_score(pred, target, smooth=1e-6):\n",
    "    pred = (pred > 0.5).float()\n",
    "    target = target.float()\n",
    "    tp = (pred * target).sum()\n",
    "    fn = ((1 - pred) * target).sum()\n",
    "    return (tp / (tp + fn + smooth)).item()\n",
    "\n",
    "# -----------------------\n",
    "# Training Setup\n",
    "# -----------------------\n",
    "device = \"cuda\" if torch.cuda.is_available() else \"cpu\"\n",
    "\n",
    "transform = transforms.Compose([\n",
    "    transforms.Resize((256, 256)),\n",
    "    transforms.ToTensor(),\n",
    "])\n",
    "\n",
    "train_dataset = SegmentationDataset(\"D:/Wave_CMKL/Year2_term1/Computer_Vision/images/train\", \"D:/Wave_CMKL/Year2_term1/Computer_Vision/masks/train\", transform=transform)\n",
    "val_dataset = SegmentationDataset(\"D:/Wave_CMKL/Year2_term1/Computer_Vision/images/val\", \"D:/Wave_CMKL/Year2_term1/Computer_Vision/masks/val\", transform=transform)\n",
    "\n",
    "train_loader = DataLoader(train_dataset, batch_size=8, shuffle=True)\n",
    "val_loader = DataLoader(val_dataset, batch_size=8)\n",
    "\n",
    "model = UNet().to(device)\n",
    "optimizer = optim.Adam(model.parameters(), lr=1e-4)\n",
    "bce = nn.BCELoss()\n",
    "\n",
    "# -----------------------\n",
    "# Training Loop\n",
    "# -----------------------\n",
    "num_epochs = 20\n",
    "best_val_loss = float(\"inf\")\n",
    "\n",
    "for epoch in range(num_epochs):\n",
    "    model.train()\n",
    "    train_loss, train_dice, train_iou, train_acc = 0, 0, 0, 0\n",
    "    for imgs, masks in tqdm(train_loader, desc=f\"Epoch {epoch+1}/{num_epochs} - Training\"):\n",
    "        imgs, masks = imgs.to(device), masks.to(device)\n",
    "\n",
    "        preds = model(imgs)\n",
    "        loss = 0.5 * bce(preds, masks) + 0.5 * (1 - dice_score(preds, masks))\n",
    "\n",
    "        optimizer.zero_grad()\n",
    "        loss.backward()\n",
    "        optimizer.step()\n",
    "\n",
    "        train_loss += loss.item()\n",
    "        train_dice += dice_score(preds, masks)\n",
    "        train_iou += iou_score(preds, masks)\n",
    "        train_acc += pixel_accuracy(preds, masks)\n",
    "\n",
    "    # Validation\n",
    "    model.eval()\n",
    "    val_loss, val_dice, val_iou, val_acc, val_prec, val_rec = 0, 0, 0, 0, 0, 0\n",
    "    with torch.no_grad():\n",
    "        for imgs, masks in tqdm(val_loader, desc=f\"Epoch {epoch+1}/{num_epochs} - Validation\"):\n",
    "            imgs, masks = imgs.to(device), masks.to(device)\n",
    "            preds = model(imgs)\n",
    "\n",
    "            loss = 0.5 * bce(preds, masks) + 0.5 * (1 - dice_score(preds, masks))\n",
    "            val_loss += loss.item()\n",
    "\n",
    "            val_dice += dice_score(preds, masks)\n",
    "            val_iou += iou_score(preds, masks)\n",
    "            val_acc += pixel_accuracy(preds, masks)\n",
    "            val_prec += precision_score(preds, masks)\n",
    "            val_rec += recall_score(preds, masks)\n",
    "\n",
    "    print(f\"\\nEpoch {epoch+1}:\")\n",
    "    print(f\" Train Loss={train_loss/len(train_loader):.4f} | \"\n",
    "          f\"Dice={train_dice/len(train_loader):.4f} | IoU={train_iou/len(train_loader):.4f} | Acc={train_acc/len(train_loader):.4f}\")\n",
    "    print(f\" Val   Loss={val_loss/len(val_loader):.4f} | \"\n",
    "          f\"Dice={val_dice/len(val_loader):.4f} | IoU={val_iou/len(val_loader):.4f} | Acc={val_acc/len(val_loader):.4f} | \"\n",
    "          f\"Prec={val_prec/len(val_loader):.4f} | Recall={val_rec/len(val_loader):.4f}\")\n",
    "\n",
    "    if val_loss < best_val_loss:\n",
    "        best_val_loss = val_loss\n",
    "        torch.save(model.state_dict(), \"best_unet.pth\")\n",
    "        print(\"✅ Model saved!\")\n",
    "\n"
   ]
  },
  {
   "cell_type": "code",
   "execution_count": 3,
   "id": "6bfff261",
   "metadata": {},
   "outputs": [
    {
     "name": "stderr",
     "output_type": "stream",
     "text": [
      "Epoch 1/20 - Training: 100%|██████████| 30/30 [00:28<00:00,  1.06it/s]\n",
      "Epoch 1/20 - Validation: 100%|██████████| 8/8 [00:01<00:00,  5.07it/s]\n"
     ]
    },
    {
     "name": "stdout",
     "output_type": "stream",
     "text": [
      "\n",
      "Epoch 1:\n",
      " Train Loss=0.6889 | Dice=0.0146 | IoU=0.0075 | Acc=0.9664\n",
      " Val   Loss=0.5896 | Dice=0.0000 | IoU=0.0000 | Acc=0.9909 | Prec=0.0000 | Recall=0.0000\n",
      "✅ Model saved!\n"
     ]
    },
    {
     "name": "stderr",
     "output_type": "stream",
     "text": [
      "Epoch 2/20 - Training: 100%|██████████| 30/30 [00:09<00:00,  3.24it/s]\n",
      "Epoch 2/20 - Validation: 100%|██████████| 8/8 [00:01<00:00,  5.97it/s]\n"
     ]
    },
    {
     "name": "stdout",
     "output_type": "stream",
     "text": [
      "\n",
      "Epoch 2:\n",
      " Train Loss=0.5841 | Dice=0.0002 | IoU=0.0001 | Acc=0.9942\n",
      " Val   Loss=0.5557 | Dice=0.0000 | IoU=0.0000 | Acc=0.9942 | Prec=0.0000 | Recall=0.0000\n",
      "✅ Model saved!\n"
     ]
    },
    {
     "name": "stderr",
     "output_type": "stream",
     "text": [
      "Epoch 3/20 - Training: 100%|██████████| 30/30 [00:08<00:00,  3.34it/s]\n",
      "Epoch 3/20 - Validation: 100%|██████████| 8/8 [00:01<00:00,  6.11it/s]\n"
     ]
    },
    {
     "name": "stdout",
     "output_type": "stream",
     "text": [
      "\n",
      "Epoch 3:\n",
      " Train Loss=0.5525 | Dice=0.0094 | IoU=0.0048 | Acc=0.9950\n",
      " Val   Loss=0.4833 | Dice=0.1334 | IoU=0.0773 | Acc=0.9917 | Prec=0.2433 | Recall=0.1049\n",
      "✅ Model saved!\n"
     ]
    },
    {
     "name": "stderr",
     "output_type": "stream",
     "text": [
      "Epoch 4/20 - Training: 100%|██████████| 30/30 [00:08<00:00,  3.47it/s]\n",
      "Epoch 4/20 - Validation: 100%|██████████| 8/8 [00:01<00:00,  5.83it/s]\n"
     ]
    },
    {
     "name": "stdout",
     "output_type": "stream",
     "text": [
      "\n",
      "Epoch 4:\n",
      " Train Loss=0.4088 | Dice=0.2761 | IoU=0.1690 | Acc=0.9959\n",
      " Val   Loss=0.3471 | Dice=0.3851 | IoU=0.2621 | Acc=0.9953 | Prec=0.5588 | Recall=0.3314\n",
      "✅ Model saved!\n"
     ]
    },
    {
     "name": "stderr",
     "output_type": "stream",
     "text": [
      "Epoch 5/20 - Training: 100%|██████████| 30/30 [00:08<00:00,  3.40it/s]\n",
      "Epoch 5/20 - Validation: 100%|██████████| 8/8 [00:01<00:00,  5.77it/s]\n"
     ]
    },
    {
     "name": "stdout",
     "output_type": "stream",
     "text": [
      "\n",
      "Epoch 5:\n",
      " Train Loss=0.2543 | Dice=0.5711 | IoU=0.4110 | Acc=0.9970\n",
      " Val   Loss=0.2401 | Dice=0.5959 | IoU=0.4390 | Acc=0.9958 | Prec=0.6236 | Recall=0.6494\n",
      "✅ Model saved!\n"
     ]
    },
    {
     "name": "stderr",
     "output_type": "stream",
     "text": [
      "Epoch 6/20 - Training: 100%|██████████| 30/30 [00:08<00:00,  3.40it/s]\n",
      "Epoch 6/20 - Validation: 100%|██████████| 8/8 [00:01<00:00,  6.22it/s]\n"
     ]
    },
    {
     "name": "stdout",
     "output_type": "stream",
     "text": [
      "\n",
      "Epoch 6:\n",
      " Train Loss=0.2084 | Dice=0.6523 | IoU=0.4903 | Acc=0.9973\n",
      " Val   Loss=0.2613 | Dice=0.5473 | IoU=0.3952 | Acc=0.9952 | Prec=0.6527 | Recall=0.5688\n"
     ]
    },
    {
     "name": "stderr",
     "output_type": "stream",
     "text": [
      "Epoch 7/20 - Training: 100%|██████████| 30/30 [00:08<00:00,  3.42it/s]\n",
      "Epoch 7/20 - Validation: 100%|██████████| 8/8 [00:01<00:00,  6.16it/s]\n"
     ]
    },
    {
     "name": "stdout",
     "output_type": "stream",
     "text": [
      "\n",
      "Epoch 7:\n",
      " Train Loss=0.1704 | Dice=0.7199 | IoU=0.5644 | Acc=0.9977\n",
      " Val   Loss=0.2183 | Dice=0.6237 | IoU=0.4687 | Acc=0.9959 | Prec=0.6694 | Recall=0.6559\n",
      "✅ Model saved!\n"
     ]
    },
    {
     "name": "stderr",
     "output_type": "stream",
     "text": [
      "Epoch 8/20 - Training: 100%|██████████| 30/30 [00:08<00:00,  3.45it/s]\n",
      "Epoch 8/20 - Validation: 100%|██████████| 8/8 [00:01<00:00,  6.11it/s]\n"
     ]
    },
    {
     "name": "stdout",
     "output_type": "stream",
     "text": [
      "\n",
      "Epoch 8:\n",
      " Train Loss=0.1553 | Dice=0.7433 | IoU=0.5973 | Acc=0.9979\n",
      " Val   Loss=0.2436 | Dice=0.5703 | IoU=0.4212 | Acc=0.9952 | Prec=0.6120 | Recall=0.6174\n"
     ]
    },
    {
     "name": "stderr",
     "output_type": "stream",
     "text": [
      "Epoch 9/20 - Training: 100%|██████████| 30/30 [00:08<00:00,  3.50it/s]\n",
      "Epoch 9/20 - Validation: 100%|██████████| 8/8 [00:01<00:00,  5.97it/s]\n"
     ]
    },
    {
     "name": "stdout",
     "output_type": "stream",
     "text": [
      "\n",
      "Epoch 9:\n",
      " Train Loss=0.1500 | Dice=0.7481 | IoU=0.6015 | Acc=0.9979\n",
      " Val   Loss=0.1693 | Dice=0.7070 | IoU=0.5525 | Acc=0.9971 | Prec=0.7198 | Recall=0.7273\n",
      "✅ Model saved!\n"
     ]
    },
    {
     "name": "stderr",
     "output_type": "stream",
     "text": [
      "Epoch 10/20 - Training: 100%|██████████| 30/30 [00:08<00:00,  3.44it/s]\n",
      "Epoch 10/20 - Validation: 100%|██████████| 8/8 [00:01<00:00,  6.01it/s]\n"
     ]
    },
    {
     "name": "stdout",
     "output_type": "stream",
     "text": [
      "\n",
      "Epoch 10:\n",
      " Train Loss=0.1313 | Dice=0.7807 | IoU=0.6417 | Acc=0.9981\n",
      " Val   Loss=0.1868 | Dice=0.6673 | IoU=0.5095 | Acc=0.9971 | Prec=0.7819 | Recall=0.6218\n"
     ]
    },
    {
     "name": "stderr",
     "output_type": "stream",
     "text": [
      "Epoch 11/20 - Training: 100%|██████████| 30/30 [00:08<00:00,  3.45it/s]\n",
      "Epoch 11/20 - Validation: 100%|██████████| 8/8 [00:01<00:00,  6.23it/s]\n"
     ]
    },
    {
     "name": "stdout",
     "output_type": "stream",
     "text": [
      "\n",
      "Epoch 11:\n",
      " Train Loss=0.1214 | Dice=0.7963 | IoU=0.6634 | Acc=0.9983\n",
      " Val   Loss=0.1514 | Dice=0.7345 | IoU=0.5862 | Acc=0.9972 | Prec=0.7103 | Recall=0.7842\n",
      "✅ Model saved!\n"
     ]
    },
    {
     "name": "stderr",
     "output_type": "stream",
     "text": [
      "Epoch 12/20 - Training: 100%|██████████| 30/30 [00:08<00:00,  3.49it/s]\n",
      "Epoch 12/20 - Validation: 100%|██████████| 8/8 [00:01<00:00,  6.34it/s]\n"
     ]
    },
    {
     "name": "stdout",
     "output_type": "stream",
     "text": [
      "\n",
      "Epoch 12:\n",
      " Train Loss=0.1120 | Dice=0.8116 | IoU=0.6840 | Acc=0.9984\n",
      " Val   Loss=0.1481 | Dice=0.7387 | IoU=0.5911 | Acc=0.9973 | Prec=0.7205 | Recall=0.7795\n",
      "✅ Model saved!\n"
     ]
    },
    {
     "name": "stderr",
     "output_type": "stream",
     "text": [
      "Epoch 13/20 - Training: 100%|██████████| 30/30 [00:08<00:00,  3.49it/s]\n",
      "Epoch 13/20 - Validation: 100%|██████████| 8/8 [00:01<00:00,  5.91it/s]\n"
     ]
    },
    {
     "name": "stdout",
     "output_type": "stream",
     "text": [
      "\n",
      "Epoch 13:\n",
      " Train Loss=0.1019 | Dice=0.8286 | IoU=0.7079 | Acc=0.9985\n",
      " Val   Loss=0.1493 | Dice=0.7338 | IoU=0.5841 | Acc=0.9976 | Prec=0.7846 | Recall=0.7192\n"
     ]
    },
    {
     "name": "stderr",
     "output_type": "stream",
     "text": [
      "Epoch 14/20 - Training: 100%|██████████| 30/30 [00:08<00:00,  3.45it/s]\n",
      "Epoch 14/20 - Validation: 100%|██████████| 8/8 [00:01<00:00,  6.12it/s]\n"
     ]
    },
    {
     "name": "stdout",
     "output_type": "stream",
     "text": [
      "\n",
      "Epoch 14:\n",
      " Train Loss=0.0970 | Dice=0.8358 | IoU=0.7187 | Acc=0.9986\n",
      " Val   Loss=0.1661 | Dice=0.7009 | IoU=0.5530 | Acc=0.9967 | Prec=0.6962 | Recall=0.7680\n"
     ]
    },
    {
     "name": "stderr",
     "output_type": "stream",
     "text": [
      "Epoch 15/20 - Training: 100%|██████████| 30/30 [00:08<00:00,  3.53it/s]\n",
      "Epoch 15/20 - Validation: 100%|██████████| 8/8 [00:01<00:00,  6.33it/s]\n"
     ]
    },
    {
     "name": "stdout",
     "output_type": "stream",
     "text": [
      "\n",
      "Epoch 15:\n",
      " Train Loss=0.0905 | Dice=0.8466 | IoU=0.7346 | Acc=0.9987\n",
      " Val   Loss=0.1551 | Dice=0.7180 | IoU=0.5670 | Acc=0.9975 | Prec=0.7885 | Recall=0.6864\n"
     ]
    },
    {
     "name": "stderr",
     "output_type": "stream",
     "text": [
      "Epoch 16/20 - Training: 100%|██████████| 30/30 [00:08<00:00,  3.49it/s]\n",
      "Epoch 16/20 - Validation: 100%|██████████| 8/8 [00:01<00:00,  6.13it/s]\n"
     ]
    },
    {
     "name": "stdout",
     "output_type": "stream",
     "text": [
      "\n",
      "Epoch 16:\n",
      " Train Loss=0.0929 | Dice=0.8397 | IoU=0.7248 | Acc=0.9986\n",
      " Val   Loss=0.1650 | Dice=0.6970 | IoU=0.5419 | Acc=0.9973 | Prec=0.8083 | Recall=0.6488\n"
     ]
    },
    {
     "name": "stderr",
     "output_type": "stream",
     "text": [
      "Epoch 17/20 - Training: 100%|██████████| 30/30 [00:08<00:00,  3.46it/s]\n",
      "Epoch 17/20 - Validation: 100%|██████████| 8/8 [00:01<00:00,  6.30it/s]\n"
     ]
    },
    {
     "name": "stdout",
     "output_type": "stream",
     "text": [
      "\n",
      "Epoch 17:\n",
      " Train Loss=0.0879 | Dice=0.8478 | IoU=0.7365 | Acc=0.9987\n",
      " Val   Loss=0.1351 | Dice=0.7547 | IoU=0.6118 | Acc=0.9976 | Prec=0.7640 | Recall=0.7713\n",
      "✅ Model saved!\n"
     ]
    },
    {
     "name": "stderr",
     "output_type": "stream",
     "text": [
      "Epoch 18/20 - Training: 100%|██████████| 30/30 [00:08<00:00,  3.46it/s]\n",
      "Epoch 18/20 - Validation: 100%|██████████| 8/8 [00:01<00:00,  6.18it/s]\n"
     ]
    },
    {
     "name": "stdout",
     "output_type": "stream",
     "text": [
      "\n",
      "Epoch 18:\n",
      " Train Loss=0.0802 | Dice=0.8615 | IoU=0.7571 | Acc=0.9988\n",
      " Val   Loss=0.1410 | Dice=0.7432 | IoU=0.5986 | Acc=0.9974 | Prec=0.7380 | Recall=0.7850\n"
     ]
    },
    {
     "name": "stderr",
     "output_type": "stream",
     "text": [
      "Epoch 19/20 - Training: 100%|██████████| 30/30 [00:08<00:00,  3.49it/s]\n",
      "Epoch 19/20 - Validation: 100%|██████████| 8/8 [00:01<00:00,  6.33it/s]\n"
     ]
    },
    {
     "name": "stdout",
     "output_type": "stream",
     "text": [
      "\n",
      "Epoch 19:\n",
      " Train Loss=0.0806 | Dice=0.8592 | IoU=0.7542 | Acc=0.9988\n",
      " Val   Loss=0.1477 | Dice=0.7291 | IoU=0.5823 | Acc=0.9972 | Prec=0.7442 | Recall=0.7682\n"
     ]
    },
    {
     "name": "stderr",
     "output_type": "stream",
     "text": [
      "Epoch 20/20 - Training: 100%|██████████| 30/30 [00:08<00:00,  3.61it/s]\n",
      "Epoch 20/20 - Validation: 100%|██████████| 8/8 [00:01<00:00,  6.64it/s]\n"
     ]
    },
    {
     "name": "stdout",
     "output_type": "stream",
     "text": [
      "\n",
      "Epoch 20:\n",
      " Train Loss=0.0785 | Dice=0.8623 | IoU=0.7585 | Acc=0.9988\n",
      " Val   Loss=0.1325 | Dice=0.7560 | IoU=0.6124 | Acc=0.9976 | Prec=0.7516 | Recall=0.7878\n",
      "✅ Model saved!\n"
     ]
    }
   ],
   "source": [
    "from torchvision.models.segmentation import deeplabv3_resnet50\n",
    "\n",
    "# -----------------------\n",
    "# Dataset\n",
    "# -----------------------\n",
    "class SegmentationDataset(Dataset):\n",
    "    def __init__(self, img_dir, mask_dir, transform=None):\n",
    "        self.img_dir = img_dir\n",
    "        self.mask_dir = mask_dir\n",
    "        self.images = os.listdir(img_dir)\n",
    "        self.transform = transform\n",
    "\n",
    "    def __len__(self):\n",
    "        return len(self.images)\n",
    "\n",
    "    def __getitem__(self, idx):\n",
    "        img_path = os.path.join(self.img_dir, self.images[idx])\n",
    "        mask_path = os.path.join(self.mask_dir, self.images[idx])  # assumes same filename\n",
    "\n",
    "        image = Image.open(img_path).convert(\"RGB\")\n",
    "        mask = Image.open(mask_path).convert(\"L\")  # grayscale\n",
    "\n",
    "        if self.transform is not None:\n",
    "            image = self.transform(image)\n",
    "            mask = self.transform(mask)\n",
    "\n",
    "        mask = (mask > 0).float()  # binarize\n",
    "        return image, mask\n",
    "\n",
    "# -----------------------\n",
    "# Metrics\n",
    "# -----------------------\n",
    "def dice_score(pred, target, smooth=1e-6):\n",
    "    pred = (pred > 0.5).float()\n",
    "    target = target.float()\n",
    "    intersection = (pred * target).sum()\n",
    "    return ((2. * intersection + smooth) / (pred.sum() + target.sum() + smooth)).item()\n",
    "\n",
    "def iou_score(pred, target, smooth=1e-6):\n",
    "    pred = (pred > 0.5).float()\n",
    "    target = target.float()\n",
    "    intersection = (pred * target).sum()\n",
    "    union = pred.sum() + target.sum() - intersection\n",
    "    return ((intersection + smooth) / (union + smooth)).item()\n",
    "\n",
    "def pixel_accuracy(pred, target):\n",
    "    pred = (pred > 0.5).float()\n",
    "    correct = (pred == target).float().sum()\n",
    "    return (correct / target.numel()).item()\n",
    "\n",
    "def precision_score(pred, target, smooth=1e-6):\n",
    "    pred = (pred > 0.5).float()\n",
    "    target = target.float()\n",
    "    tp = (pred * target).sum()\n",
    "    fp = (pred * (1 - target)).sum()\n",
    "    return (tp / (tp + fp + smooth)).item()\n",
    "\n",
    "def recall_score(pred, target, smooth=1e-6):\n",
    "    pred = (pred > 0.5).float()\n",
    "    target = target.float()\n",
    "    tp = (pred * target).sum()\n",
    "    fn = ((1 - pred) * target).sum()\n",
    "    return (tp / (tp + fn + smooth)).item()\n",
    "\n",
    "# -----------------------\n",
    "# Training Setup\n",
    "# -----------------------\n",
    "device = \"cuda\" if torch.cuda.is_available() else \"cpu\"\n",
    "\n",
    "transform = transforms.Compose([\n",
    "    transforms.Resize((256, 256)),\n",
    "    transforms.ToTensor(),\n",
    "])\n",
    "\n",
    "train_dataset = SegmentationDataset(\"D:/Wave_CMKL/Year2_term1/Computer_Vision/images/train\", \"D:/Wave_CMKL/Year2_term1/Computer_Vision/masks/train\", transform=transform)\n",
    "val_dataset = SegmentationDataset(\"D:/Wave_CMKL/Year2_term1/Computer_Vision/images/val\", \"D:/Wave_CMKL/Year2_term1/Computer_Vision/masks/val\", transform=transform)\n",
    "\n",
    "train_loader = DataLoader(train_dataset, batch_size=8, shuffle=True)\n",
    "val_loader = DataLoader(val_dataset, batch_size=8)\n",
    "\n",
    "# -----------------------\n",
    "# DeepLabV3 Model\n",
    "# -----------------------\n",
    "model = deeplabv3_resnet50(weights=None, num_classes=1).to(device)\n",
    "optimizer = optim.Adam(model.parameters(), lr=1e-4)\n",
    "bce = nn.BCEWithLogitsLoss()  # Use logits for DeepLabV3\n",
    "\n",
    "# -----------------------\n",
    "# Training Loop\n",
    "# -----------------------\n",
    "num_epochs = 20\n",
    "best_val_loss = float(\"inf\")\n",
    "\n",
    "for epoch in range(num_epochs):\n",
    "    model.train()\n",
    "    train_loss, train_dice, train_iou, train_acc = 0, 0, 0, 0\n",
    "    for imgs, masks in tqdm(train_loader, desc=f\"Epoch {epoch+1}/{num_epochs} - Training\"):\n",
    "        imgs, masks = imgs.to(device), masks.to(device)\n",
    "\n",
    "        outputs = model(imgs)[\"out\"]  # shape: [B, 1, H, W]\n",
    "        preds = torch.sigmoid(outputs)\n",
    "        loss = 0.5 * bce(outputs, masks) + 0.5 * (1 - dice_score(preds, masks))\n",
    "\n",
    "        optimizer.zero_grad()\n",
    "        loss.backward()\n",
    "        optimizer.step()\n",
    "\n",
    "        train_loss += loss.item()\n",
    "        train_dice += dice_score(preds, masks)\n",
    "        train_iou += iou_score(preds, masks)\n",
    "        train_acc += pixel_accuracy(preds, masks)\n",
    "\n",
    "    # Validation\n",
    "    model.eval()\n",
    "    val_loss, val_dice, val_iou, val_acc, val_prec, val_rec = 0, 0, 0, 0, 0, 0\n",
    "    with torch.no_grad():\n",
    "        for imgs, masks in tqdm(val_loader, desc=f\"Epoch {epoch+1}/{num_epochs} - Validation\"):\n",
    "            imgs, masks = imgs.to(device), masks.to(device)\n",
    "            outputs = model(imgs)[\"out\"]\n",
    "            preds = torch.sigmoid(outputs)\n",
    "\n",
    "            loss = 0.5 * bce(outputs, masks) + 0.5 * (1 - dice_score(preds, masks))\n",
    "            val_loss += loss.item()\n",
    "\n",
    "            val_dice += dice_score(preds, masks)\n",
    "            val_iou += iou_score(preds, masks)\n",
    "            val_acc += pixel_accuracy(preds, masks)\n",
    "            val_prec += precision_score(preds, masks)\n",
    "            val_rec += recall_score(preds, masks)\n",
    "\n",
    "    print(f\"\\nEpoch {epoch+1}:\")\n",
    "    print(f\" Train Loss={train_loss/len(train_loader):.4f} | \"\n",
    "          f\"Dice={train_dice/len(train_loader):.4f} | IoU={train_iou/len(train_loader):.4f} | Acc={train_acc/len(train_loader):.4f}\")\n",
    "    print(f\" Val   Loss={val_loss/len(val_loader):.4f} | \"\n",
    "          f\"Dice={val_dice/len(val_loader):.4f} | IoU={val_iou/len(val_loader):.4f} | Acc={val_acc/len(val_loader):.4f} | \"\n",
    "          f\"Prec={val_prec/len(val_loader):.4f} | Recall={val_rec/len(val_loader):.4f}\")\n",
    "\n",
    "    if val_loss < best_val_loss:\n",
    "        best_val_loss = val_loss\n",
    "        torch.save(model.state_dict(), \"best_deeplabv3.pth\")\n",
    "        print(\"✅ Model saved!\")"
   ]
  },
  {
   "cell_type": "code",
   "execution_count": 5,
   "id": "c1e22d52",
   "metadata": {},
   "outputs": [
    {
     "data": {
      "application/vnd.jupyter.widget-view+json": {
       "model_id": "2dbeec7f099f4ea3b3289c70e26c74b6",
       "version_major": 2,
       "version_minor": 0
      },
      "text/plain": [
       "config.json:   0%|          | 0.00/156 [00:00<?, ?B/s]"
      ]
     },
     "metadata": {},
     "output_type": "display_data"
    },
    {
     "name": "stderr",
     "output_type": "stream",
     "text": [
      "c:\\Users\\Admin\\AppData\\Local\\Programs\\Python\\Python313\\Lib\\site-packages\\huggingface_hub\\file_download.py:142: UserWarning: `huggingface_hub` cache-system uses symlinks by default to efficiently store duplicated files but your machine does not support them in C:\\Users\\Admin\\.cache\\huggingface\\hub\\models--smp-hub--resnet34.imagenet. Caching files will still work but in a degraded version that might require more space on your disk. This warning can be disabled by setting the `HF_HUB_DISABLE_SYMLINKS_WARNING` environment variable. For more details, see https://huggingface.co/docs/huggingface_hub/how-to-cache#limitations.\n",
      "To support symlinks on Windows, you either need to activate Developer Mode or to run Python as an administrator. In order to activate developer mode, see this article: https://docs.microsoft.com/en-us/windows/apps/get-started/enable-your-device-for-development\n",
      "  warnings.warn(message)\n"
     ]
    },
    {
     "data": {
      "application/vnd.jupyter.widget-view+json": {
       "model_id": "48b40320751e4707814c1e652c94027d",
       "version_major": 2,
       "version_minor": 0
      },
      "text/plain": [
       "model.safetensors:   0%|          | 0.00/87.3M [00:00<?, ?B/s]"
      ]
     },
     "metadata": {},
     "output_type": "display_data"
    },
    {
     "name": "stderr",
     "output_type": "stream",
     "text": [
      "Epoch 1/20 - Training: 100%|██████████| 30/30 [08:00<00:00, 16.01s/it]  \n",
      "Epoch 1/20 - Validation: 100%|██████████| 8/8 [00:04<00:00,  1.84it/s]\n"
     ]
    },
    {
     "name": "stdout",
     "output_type": "stream",
     "text": [
      "\n",
      "Epoch 1:\n",
      " Train Loss=0.5100 | Dice=0.0227 | IoU=0.0123 | Acc=0.9839\n",
      " Val   Loss=0.5112 | Dice=0.0000 | IoU=0.0000 | Acc=0.9951 | Prec=0.0000 | Recall=0.0000\n",
      "✅ Model saved!\n"
     ]
    },
    {
     "name": "stderr",
     "output_type": "stream",
     "text": [
      "Epoch 2/20 - Training: 100%|██████████| 30/30 [00:15<00:00,  1.90it/s]\n",
      "Epoch 2/20 - Validation: 100%|██████████| 8/8 [00:04<00:00,  2.00it/s]\n"
     ]
    },
    {
     "name": "stdout",
     "output_type": "stream",
     "text": [
      "\n",
      "Epoch 2:\n",
      " Train Loss=0.3830 | Dice=0.2453 | IoU=0.1499 | Acc=0.9959\n",
      " Val   Loss=0.4454 | Dice=0.1208 | IoU=0.0780 | Acc=0.9955 | Prec=0.5194 | Recall=0.0793\n",
      "✅ Model saved!\n"
     ]
    },
    {
     "name": "stderr",
     "output_type": "stream",
     "text": [
      "Epoch 3/20 - Training: 100%|██████████| 30/30 [00:14<00:00,  2.09it/s]\n",
      "Epoch 3/20 - Validation: 100%|██████████| 8/8 [00:03<00:00,  2.64it/s]\n"
     ]
    },
    {
     "name": "stdout",
     "output_type": "stream",
     "text": [
      "\n",
      "Epoch 3:\n",
      " Train Loss=0.2802 | Dice=0.4484 | IoU=0.3040 | Acc=0.9965\n",
      " Val   Loss=0.2511 | Dice=0.5060 | IoU=0.3573 | Acc=0.9966 | Prec=0.7867 | Recall=0.4229\n",
      "✅ Model saved!\n"
     ]
    },
    {
     "name": "stderr",
     "output_type": "stream",
     "text": [
      "Epoch 4/20 - Training: 100%|██████████| 30/30 [00:14<00:00,  2.11it/s]\n",
      "Epoch 4/20 - Validation: 100%|██████████| 8/8 [00:03<00:00,  2.33it/s]\n"
     ]
    },
    {
     "name": "stdout",
     "output_type": "stream",
     "text": [
      "\n",
      "Epoch 4:\n",
      " Train Loss=0.2360 | Dice=0.5357 | IoU=0.3826 | Acc=0.9969\n",
      " Val   Loss=0.2062 | Dice=0.5947 | IoU=0.4382 | Acc=0.9971 | Prec=0.8215 | Recall=0.4962\n",
      "✅ Model saved!\n"
     ]
    },
    {
     "name": "stderr",
     "output_type": "stream",
     "text": [
      "Epoch 5/20 - Training: 100%|██████████| 30/30 [00:13<00:00,  2.26it/s]\n",
      "Epoch 5/20 - Validation: 100%|██████████| 8/8 [00:03<00:00,  2.58it/s]\n"
     ]
    },
    {
     "name": "stdout",
     "output_type": "stream",
     "text": [
      "\n",
      "Epoch 5:\n",
      " Train Loss=0.1817 | Dice=0.6430 | IoU=0.4806 | Acc=0.9974\n",
      " Val   Loss=0.1865 | Dice=0.6334 | IoU=0.4828 | Acc=0.9975 | Prec=0.8816 | Recall=0.5277\n",
      "✅ Model saved!\n"
     ]
    },
    {
     "name": "stderr",
     "output_type": "stream",
     "text": [
      "Epoch 6/20 - Training: 100%|██████████| 30/30 [00:13<00:00,  2.28it/s]\n",
      "Epoch 6/20 - Validation: 100%|██████████| 8/8 [00:03<00:00,  2.32it/s]\n"
     ]
    },
    {
     "name": "stdout",
     "output_type": "stream",
     "text": [
      "\n",
      "Epoch 6:\n",
      " Train Loss=0.1444 | Dice=0.7167 | IoU=0.5609 | Acc=0.9977\n",
      " Val   Loss=0.1746 | Dice=0.6570 | IoU=0.5074 | Acc=0.9975 | Prec=0.8716 | Recall=0.5642\n",
      "✅ Model saved!\n"
     ]
    },
    {
     "name": "stderr",
     "output_type": "stream",
     "text": [
      "Epoch 7/20 - Training: 100%|██████████| 30/30 [00:12<00:00,  2.38it/s]\n",
      "Epoch 7/20 - Validation: 100%|██████████| 8/8 [00:03<00:00,  2.59it/s]\n"
     ]
    },
    {
     "name": "stdout",
     "output_type": "stream",
     "text": [
      "\n",
      "Epoch 7:\n",
      " Train Loss=0.1240 | Dice=0.7568 | IoU=0.6106 | Acc=0.9980\n",
      " Val   Loss=0.1579 | Dice=0.6901 | IoU=0.5390 | Acc=0.9977 | Prec=0.8986 | Recall=0.5784\n",
      "✅ Model saved!\n"
     ]
    },
    {
     "name": "stderr",
     "output_type": "stream",
     "text": [
      "Epoch 8/20 - Training: 100%|██████████| 30/30 [00:18<00:00,  1.59it/s]\n",
      "Epoch 8/20 - Validation: 100%|██████████| 8/8 [00:04<00:00,  1.89it/s]\n"
     ]
    },
    {
     "name": "stdout",
     "output_type": "stream",
     "text": [
      "\n",
      "Epoch 8:\n",
      " Train Loss=0.1138 | Dice=0.7768 | IoU=0.6392 | Acc=0.9982\n",
      " Val   Loss=0.1790 | Dice=0.6485 | IoU=0.4919 | Acc=0.9975 | Prec=0.9251 | Recall=0.5174\n"
     ]
    },
    {
     "name": "stderr",
     "output_type": "stream",
     "text": [
      "Epoch 9/20 - Training: 100%|██████████| 30/30 [00:15<00:00,  1.91it/s]\n",
      "Epoch 9/20 - Validation: 100%|██████████| 8/8 [00:03<00:00,  2.04it/s]\n"
     ]
    },
    {
     "name": "stdout",
     "output_type": "stream",
     "text": [
      "\n",
      "Epoch 9:\n",
      " Train Loss=0.1067 | Dice=0.7907 | IoU=0.6559 | Acc=0.9983\n",
      " Val   Loss=0.1598 | Dice=0.6866 | IoU=0.5346 | Acc=0.9976 | Prec=0.8987 | Recall=0.5789\n"
     ]
    },
    {
     "name": "stderr",
     "output_type": "stream",
     "text": [
      "Epoch 10/20 - Training: 100%|██████████| 30/30 [00:18<00:00,  1.65it/s]\n",
      "Epoch 10/20 - Validation: 100%|██████████| 8/8 [00:05<00:00,  1.56it/s]\n"
     ]
    },
    {
     "name": "stdout",
     "output_type": "stream",
     "text": [
      "\n",
      "Epoch 10:\n",
      " Train Loss=0.1018 | Dice=0.8004 | IoU=0.6683 | Acc=0.9983\n",
      " Val   Loss=0.1176 | Dice=0.7704 | IoU=0.6307 | Acc=0.9979 | Prec=0.8251 | Recall=0.7364\n",
      "✅ Model saved!\n"
     ]
    },
    {
     "name": "stderr",
     "output_type": "stream",
     "text": [
      "Epoch 11/20 - Training: 100%|██████████| 30/30 [00:13<00:00,  2.21it/s]\n",
      "Epoch 11/20 - Validation: 100%|██████████| 8/8 [00:03<00:00,  2.49it/s]\n"
     ]
    },
    {
     "name": "stdout",
     "output_type": "stream",
     "text": [
      "\n",
      "Epoch 11:\n",
      " Train Loss=0.0994 | Dice=0.8050 | IoU=0.6757 | Acc=0.9984\n",
      " Val   Loss=0.1135 | Dice=0.7782 | IoU=0.6405 | Acc=0.9980 | Prec=0.8201 | Recall=0.7493\n",
      "✅ Model saved!\n"
     ]
    },
    {
     "name": "stderr",
     "output_type": "stream",
     "text": [
      "Epoch 12/20 - Training: 100%|██████████| 30/30 [00:14<00:00,  2.07it/s]\n",
      "Epoch 12/20 - Validation: 100%|██████████| 8/8 [00:04<00:00,  1.89it/s]\n"
     ]
    },
    {
     "name": "stdout",
     "output_type": "stream",
     "text": [
      "\n",
      "Epoch 12:\n",
      " Train Loss=0.0888 | Dice=0.8259 | IoU=0.7044 | Acc=0.9985\n",
      " Val   Loss=0.1091 | Dice=0.7869 | IoU=0.6527 | Acc=0.9981 | Prec=0.8602 | Recall=0.7306\n",
      "✅ Model saved!\n"
     ]
    },
    {
     "name": "stderr",
     "output_type": "stream",
     "text": [
      "Epoch 13/20 - Training: 100%|██████████| 30/30 [00:13<00:00,  2.28it/s]\n",
      "Epoch 13/20 - Validation: 100%|██████████| 8/8 [00:06<00:00,  1.33it/s]\n"
     ]
    },
    {
     "name": "stdout",
     "output_type": "stream",
     "text": [
      "\n",
      "Epoch 13:\n",
      " Train Loss=0.0877 | Dice=0.8281 | IoU=0.7087 | Acc=0.9985\n",
      " Val   Loss=0.1152 | Dice=0.7748 | IoU=0.6365 | Acc=0.9981 | Prec=0.8813 | Recall=0.6984\n"
     ]
    },
    {
     "name": "stderr",
     "output_type": "stream",
     "text": [
      "Epoch 14/20 - Training: 100%|██████████| 30/30 [00:24<00:00,  1.21it/s]\n",
      "Epoch 14/20 - Validation: 100%|██████████| 8/8 [00:17<00:00,  2.16s/it]\n"
     ]
    },
    {
     "name": "stdout",
     "output_type": "stream",
     "text": [
      "\n",
      "Epoch 14:\n",
      " Train Loss=0.0817 | Dice=0.8399 | IoU=0.7247 | Acc=0.9986\n",
      " Val   Loss=0.1234 | Dice=0.7589 | IoU=0.6173 | Acc=0.9980 | Prec=0.8936 | Recall=0.6710\n"
     ]
    },
    {
     "name": "stderr",
     "output_type": "stream",
     "text": [
      "Epoch 15/20 - Training: 100%|██████████| 30/30 [00:50<00:00,  1.67s/it]\n",
      "Epoch 15/20 - Validation: 100%|██████████| 8/8 [00:15<00:00,  1.90s/it]\n"
     ]
    },
    {
     "name": "stdout",
     "output_type": "stream",
     "text": [
      "\n",
      "Epoch 15:\n",
      " Train Loss=0.0775 | Dice=0.8482 | IoU=0.7372 | Acc=0.9987\n",
      " Val   Loss=0.1236 | Dice=0.7586 | IoU=0.6165 | Acc=0.9980 | Prec=0.8961 | Recall=0.6664\n"
     ]
    },
    {
     "name": "stderr",
     "output_type": "stream",
     "text": [
      "Epoch 16/20 - Training: 100%|██████████| 30/30 [00:43<00:00,  1.44s/it]\n",
      "Epoch 16/20 - Validation: 100%|██████████| 8/8 [00:07<00:00,  1.01it/s]\n"
     ]
    },
    {
     "name": "stdout",
     "output_type": "stream",
     "text": [
      "\n",
      "Epoch 16:\n",
      " Train Loss=0.0782 | Dice=0.8467 | IoU=0.7351 | Acc=0.9987\n",
      " Val   Loss=0.1353 | Dice=0.7356 | IoU=0.5906 | Acc=0.9979 | Prec=0.9160 | Recall=0.6295\n"
     ]
    },
    {
     "name": "stderr",
     "output_type": "stream",
     "text": [
      "Epoch 17/20 - Training: 100%|██████████| 30/30 [00:35<00:00,  1.20s/it]\n",
      "Epoch 17/20 - Validation: 100%|██████████| 8/8 [00:12<00:00,  1.53s/it]\n"
     ]
    },
    {
     "name": "stdout",
     "output_type": "stream",
     "text": [
      "\n",
      "Epoch 17:\n",
      " Train Loss=0.0769 | Dice=0.8492 | IoU=0.7388 | Acc=0.9987\n",
      " Val   Loss=0.1092 | Dice=0.7867 | IoU=0.6524 | Acc=0.9981 | Prec=0.8725 | Recall=0.7252\n"
     ]
    },
    {
     "name": "stderr",
     "output_type": "stream",
     "text": [
      "Epoch 18/20 - Training: 100%|██████████| 30/30 [00:42<00:00,  1.41s/it]\n",
      "Epoch 18/20 - Validation: 100%|██████████| 8/8 [00:09<00:00,  1.15s/it]\n"
     ]
    },
    {
     "name": "stdout",
     "output_type": "stream",
     "text": [
      "\n",
      "Epoch 18:\n",
      " Train Loss=0.0713 | Dice=0.8603 | IoU=0.7556 | Acc=0.9988\n",
      " Val   Loss=0.1156 | Dice=0.7743 | IoU=0.6383 | Acc=0.9981 | Prec=0.8900 | Recall=0.6978\n"
     ]
    },
    {
     "name": "stderr",
     "output_type": "stream",
     "text": [
      "Epoch 19/20 - Training: 100%|██████████| 30/30 [00:45<00:00,  1.52s/it]\n",
      "Epoch 19/20 - Validation: 100%|██████████| 8/8 [00:12<00:00,  1.59s/it]\n"
     ]
    },
    {
     "name": "stdout",
     "output_type": "stream",
     "text": [
      "\n",
      "Epoch 19:\n",
      " Train Loss=0.0681 | Dice=0.8665 | IoU=0.7651 | Acc=0.9988\n",
      " Val   Loss=0.1119 | Dice=0.7820 | IoU=0.6455 | Acc=0.9981 | Prec=0.8908 | Recall=0.7019\n"
     ]
    },
    {
     "name": "stderr",
     "output_type": "stream",
     "text": [
      "Epoch 20/20 - Training: 100%|██████████| 30/30 [00:34<00:00,  1.16s/it]\n",
      "Epoch 20/20 - Validation: 100%|██████████| 8/8 [00:01<00:00,  7.55it/s]"
     ]
    },
    {
     "name": "stdout",
     "output_type": "stream",
     "text": [
      "\n",
      "Epoch 20:\n",
      " Train Loss=0.0660 | Dice=0.8706 | IoU=0.7714 | Acc=0.9989\n",
      " Val   Loss=0.1141 | Dice=0.7775 | IoU=0.6415 | Acc=0.9981 | Prec=0.8832 | Recall=0.7065\n"
     ]
    },
    {
     "name": "stderr",
     "output_type": "stream",
     "text": [
      "\n"
     ]
    }
   ],
   "source": [
    "import segmentation_models_pytorch as smp\n",
    "\n",
    "# -----------------------\n",
    "# FPN Model\n",
    "# -----------------------\n",
    "model = smp.FPN(\n",
    "    encoder_name=\"resnet34\",        # backbone\n",
    "    encoder_weights=\"imagenet\",     # use pretrained weights\n",
    "    in_channels=3,                  # RGB images\n",
    "    classes=1,                      # binary mask\n",
    "    activation=None                 # use logits for BCEWithLogitsLoss\n",
    ").to(device)\n",
    "optimizer = optim.Adam(model.parameters(), lr=1e-4)\n",
    "bce = nn.BCEWithLogitsLoss()\n",
    "\n",
    "# -----------------------\n",
    "# Training Loop\n",
    "# -----------------------\n",
    "num_epochs = 20\n",
    "best_val_loss = float(\"inf\")\n",
    "\n",
    "for epoch in range(num_epochs):\n",
    "    model.train()\n",
    "    train_loss, train_dice, train_iou, train_acc = 0, 0, 0, 0\n",
    "    for imgs, masks in tqdm(train_loader, desc=f\"Epoch {epoch+1}/{num_epochs} - Training\"):\n",
    "        imgs, masks = imgs.to(device), masks.to(device)\n",
    "\n",
    "        outputs = model(imgs)  # shape: [B, 1, H, W]\n",
    "        preds = torch.sigmoid(outputs)\n",
    "        loss = 0.5 * bce(outputs, masks) + 0.5 * (1 - dice_score(preds, masks))\n",
    "\n",
    "        optimizer.zero_grad()\n",
    "        loss.backward()\n",
    "        optimizer.step()\n",
    "\n",
    "        train_loss += loss.item()\n",
    "        train_dice += dice_score(preds, masks)\n",
    "        train_iou += iou_score(preds, masks)\n",
    "        train_acc += pixel_accuracy(preds, masks)\n",
    "\n",
    "    # Validation\n",
    "    model.eval()\n",
    "    val_loss, val_dice, val_iou, val_acc, val_prec, val_rec = 0, 0, 0, 0, 0, 0\n",
    "    with torch.no_grad():\n",
    "        for imgs, masks in tqdm(val_loader, desc=f\"Epoch {epoch+1}/{num_epochs} - Validation\"):\n",
    "            imgs, masks = imgs.to(device), masks.to(device)\n",
    "            outputs = model(imgs)\n",
    "            preds = torch.sigmoid(outputs)\n",
    "\n",
    "            loss = 0.5 * bce(outputs, masks) + 0.5 * (1 - dice_score(preds, masks))\n",
    "            val_loss += loss.item()\n",
    "\n",
    "            val_dice += dice_score(preds, masks)\n",
    "            val_iou += iou_score(preds, masks)\n",
    "            val_acc += pixel_accuracy(preds, masks)\n",
    "            val_prec += precision_score(preds, masks)\n",
    "            val_rec += recall_score(preds, masks)\n",
    "\n",
    "    print(f\"\\nEpoch {epoch+1}:\")\n",
    "    print(f\" Train Loss={train_loss/len(train_loader):.4f} | \"\n",
    "          f\"Dice={train_dice/len(train_loader):.4f} | IoU={train_iou/len(train_loader):.4f} | Acc={train_acc/len(train_loader):.4f}\")\n",
    "    print(f\" Val   Loss={val_loss/len(val_loader):.4f} | \"\n",
    "          f\"Dice={val_dice/len(val_loader):.4f} | IoU={val_iou/len(val_loader):.4f} | Acc={val_acc/len(val_loader):.4f} | \"\n",
    "          f\"Prec={val_prec/len(val_loader):.4f} | Recall={val_rec/len(val_loader):.4f}\")\n",
    "\n",
    "    if val_loss < best_val_loss:\n",
    "        best_val_loss = val_loss\n",
    "        torch.save(model.state_dict(), \"best_fpn.pth\")\n",
    "        print(\"✅ Model saved!\")"
   ]
  },
  {
   "cell_type": "code",
   "execution_count": 6,
   "id": "aee5f6f2",
   "metadata": {},
   "outputs": [
    {
     "name": "stdout",
     "output_type": "stream",
     "text": [
      "Validation Dice Scores:\n",
      "UNet: 0.8268\n",
      "DeepLabV3: 0.7560\n",
      "FPN: 0.7869\n"
     ]
    }
   ],
   "source": [
    "# Compare Dice scores for U-Net, DeepLabV3, and FPN on validation set\n",
    "\n",
    "import torch\n",
    "\n",
    "# Load models (make sure you have trained and saved them)\n",
    "unet = UNet().to(device)\n",
    "unet.load_state_dict(torch.load(\"best_unet.pth\", map_location=device))\n",
    "unet.eval()\n",
    "\n",
    "deeplab = deeplabv3_resnet50(weights=None, num_classes=1).to(device)\n",
    "deeplab.load_state_dict(torch.load(\"best_deeplabv3.pth\", map_location=device))\n",
    "deeplab.eval()\n",
    "\n",
    "import segmentation_models_pytorch as smp\n",
    "fpn = smp.FPN(\n",
    "    encoder_name=\"resnet34\",\n",
    "    encoder_weights=None,\n",
    "    in_channels=3,\n",
    "    classes=1,\n",
    "    activation=None\n",
    ").to(device)\n",
    "fpn.load_state_dict(torch.load(\"best_fpn.pth\", map_location=device))\n",
    "fpn.eval()\n",
    "\n",
    "dice_scores = {\"UNet\": 0, \"DeepLabV3\": 0, \"FPN\": 0}\n",
    "num_batches = len(val_loader)\n",
    "\n",
    "with torch.no_grad():\n",
    "    for imgs, masks in val_loader:\n",
    "        imgs, masks = imgs.to(device), masks.to(device)\n",
    "\n",
    "        # U-Net\n",
    "        preds_unet = unet(imgs)\n",
    "        dice_scores[\"UNet\"] += dice_score(preds_unet, masks)\n",
    "\n",
    "        # DeepLabV3\n",
    "        preds_deeplab = torch.sigmoid(deeplab(imgs)[\"out\"])\n",
    "        dice_scores[\"DeepLabV3\"] += dice_score(preds_deeplab, masks)\n",
    "\n",
    "        # FPN\n",
    "        preds_fpn = torch.sigmoid(fpn(imgs))\n",
    "        dice_scores[\"FPN\"] += dice_score(preds_fpn, masks)\n",
    "\n",
    "for k in dice_scores:\n",
    "    dice_scores[k] /= num_batches\n",
    "\n",
    "print(\"Validation Dice Scores:\")\n",
    "for k, v in dice_scores.items():\n",
    "    print(f\"{k}: {v:.4f}\")"
   ]
  }
 ],
 "metadata": {
  "colab": {
   "provenance": []
  },
  "kernelspec": {
   "display_name": "Python 3",
   "language": "python",
   "name": "python3"
  },
  "language_info": {
   "codemirror_mode": {
    "name": "ipython",
    "version": 3
   },
   "file_extension": ".py",
   "mimetype": "text/x-python",
   "name": "python",
   "nbconvert_exporter": "python",
   "pygments_lexer": "ipython3",
   "version": "3.13.2"
  }
 },
 "nbformat": 4,
 "nbformat_minor": 5
}
